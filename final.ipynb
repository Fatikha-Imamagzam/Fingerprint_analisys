{
  "cells": [
    {
      "cell_type": "markdown",
      "metadata": {
        "id": "view-in-github",
        "colab_type": "text"
      },
      "source": [
        "<a href=\"https://colab.research.google.com/github/Fatikha-Imamagzam/Fingerprint_analisys/blob/main/final.ipynb\" target=\"_parent\"><img src=\"https://colab.research.google.com/assets/colab-badge.svg\" alt=\"Open In Colab\"/></a>"
      ]
    },
    {
      "cell_type": "code",
      "source": [
        "!nvidia-smi"
      ],
      "metadata": {
        "colab": {
          "base_uri": "https://localhost:8080/"
        },
        "id": "wLgZfkVoebGN",
        "outputId": "45ee5578-6698-4423-9b57-fda39f06f099"
      },
      "id": "wLgZfkVoebGN",
      "execution_count": null,
      "outputs": [
        {
          "output_type": "stream",
          "name": "stdout",
          "text": [
            "Thu Oct 20 10:52:00 2022       \n",
            "+-----------------------------------------------------------------------------+\n",
            "| NVIDIA-SMI 460.32.03    Driver Version: 460.32.03    CUDA Version: 11.2     |\n",
            "|-------------------------------+----------------------+----------------------+\n",
            "| GPU  Name        Persistence-M| Bus-Id        Disp.A | Volatile Uncorr. ECC |\n",
            "| Fan  Temp  Perf  Pwr:Usage/Cap|         Memory-Usage | GPU-Util  Compute M. |\n",
            "|                               |                      |               MIG M. |\n",
            "|===============================+======================+======================|\n",
            "|   0  Tesla T4            Off  | 00000000:00:04.0 Off |                    0 |\n",
            "| N/A   46C    P8    10W /  70W |      0MiB / 15109MiB |      0%      Default |\n",
            "|                               |                      |                  N/A |\n",
            "+-------------------------------+----------------------+----------------------+\n",
            "                                                                               \n",
            "+-----------------------------------------------------------------------------+\n",
            "| Processes:                                                                  |\n",
            "|  GPU   GI   CI        PID   Type   Process name                  GPU Memory |\n",
            "|        ID   ID                                                   Usage      |\n",
            "|=============================================================================|\n",
            "|  No running processes found                                                 |\n",
            "+-----------------------------------------------------------------------------+\n"
          ]
        }
      ]
    },
    {
      "cell_type": "code",
      "source": [
        "from google.colab import drive\n",
        "drive.mount('/content/drive')"
      ],
      "metadata": {
        "colab": {
          "base_uri": "https://localhost:8080/"
        },
        "id": "elwLKfpXfDo5",
        "outputId": "329e61a5-598a-495c-f176-e797e25e8455"
      },
      "id": "elwLKfpXfDo5",
      "execution_count": null,
      "outputs": [
        {
          "output_type": "stream",
          "name": "stdout",
          "text": [
            "Mounted at /content/drive\n"
          ]
        }
      ]
    },
    {
      "cell_type": "code",
      "execution_count": null,
      "id": "0a8651d5",
      "metadata": {
        "id": "0a8651d5"
      },
      "outputs": [],
      "source": [
        "import joblib # to load KNNMmdels\n",
        "from glob import glob\n",
        "import cv2\n",
        "import numpy as np\n",
        "from keras.models import load_model \n",
        "import tensorflow as tf \n",
        "\n",
        "\n",
        "end = [\"\\033[0;30;1m\",\"\\033[1;31;1m\",\"\\033[1;32;1m\", \"\\033[1;33;1m\", \"\\033[1;34;1m\", \"\\033[1;35;1m\"] "
      ]
    },
    {
      "cell_type": "code",
      "source": [
        "def getRawDataSet(dataset_cat_path):   \n",
        "    print(f\"{end[1]}Data Alınıyor....\") \n",
        "    cat = []\n",
        "    for image in dataset_cat_path:\n",
        "        img  = cv2.imread(image)\n",
        "        img = cv2.resize(img, (32, 32), interpolation = cv2.INTER_AREA)\n",
        "        cat.append(img) \n",
        "    print(f\"{end[2]}Hazırlandı!{end[0]}\")\n",
        "    print(f\"Toplam Resimler: {len(cat)}  {end[0]}\\n\\n\")\n",
        "    return cat\n",
        "\n",
        "def testTrainedModels(data, classes, models, models_path):    \n",
        "    print(f\"{end[2]}Gender (Confidence) \\t {end[3]}Age (Confidence) \\t{end[4]}Race (Confidence){end[0]}\")\n",
        "    if len(data.shape)>1:\n",
        "        gender_model = joblib.load(models_path+models[0]) \n",
        "        gender_predictions = gender_model.predict(data)\n",
        "\n",
        "        age_model = joblib.load(models_path+models[1]) \n",
        "        age_predictions = age_model.predict(data)\n",
        "\n",
        "        race_model = joblib.load(models_path+models[2]) \n",
        "        race_predictions = race_model.predict(data)\n",
        "        \n",
        "        pred_prob_gender = gender_model.predict_proba(data) \n",
        "        pred_prob_age  = age_model.predict_proba(data)\n",
        "        pred_prob_race= race_model.predict_proba(data)\n",
        "\n",
        "        #print(pred)\n",
        "        itr = 0\n",
        "        for i,j,k in zip(gender_predictions,age_predictions,race_predictions):              \n",
        "            gender = classes[0][i]\n",
        "            gender_prob = max(pred_prob_gender[itr])*100\n",
        "            age = classes[1][j]            \n",
        "            age_prob = max(pred_prob_age[itr])*100\n",
        "            race = classes[2][k] \n",
        "            race_prob = max(pred_prob_race[itr])*100\n",
        "\n",
        "            print(f\"{end[2]}{gender[2]} ({gender_prob} %) \\t {end[3]}{age} ({age_prob} %) \\t{end[4]}{race} ({race_prob} %){end[0]}\")\n",
        "            \n",
        "            #print(f\"{end[1]}pred: {i}  |{end[2]}  Gender: {gender} {gender_prob}%  | {end[3]} Age: {age}  {age_prob}%  |  {end[4]}  Race: {race}  {race_prob}%\") \n",
        "            itr += 1\n",
        "            \n",
        "    elif len(data.shape)==1:\n",
        "        data = data.reshape(1,-1)\n",
        "        gender_model = joblib.load(models_path+models[0]) \n",
        "        gender_predictions = gender_model.predict(data)\n",
        "        print(gender_predictions)\n",
        "\n",
        "        age_model = joblib.load(models_path+models[1]) \n",
        "        age_predictions = age_model.predict(data)\n",
        "\n",
        "        race_model = joblib.load(models_path+models[2]) \n",
        "        race_predictions = race_model.predict(data)\n",
        "\n",
        "        #print(pred)\n",
        "        for i,j,k in zip(gender_predictions,age_predictions,race_predictions):  \n",
        "            gender = classes[0][i]\n",
        "            age = classes[1][j]\n",
        "            race = classes[2][k]\n",
        "            \n",
        "            print(f\"{gender} {age} {race}\")        \n",
        "    else:\n",
        "        print(f\"{end[1]}Invalid data!\")\n",
        "    \n",
        "    return [gender, age, race]\n",
        "\n",
        "\n",
        "def getPredictions(custom_model,image_path, class_names, image_size, pred_amount):\n",
        "    \n",
        "    img = tf.keras.utils.load_img(\n",
        "        image_path, target_size=(image_size,image_size)\n",
        "    )\n",
        "    img_array = tf.keras.utils.img_to_array(img)\n",
        "    img_array = tf.expand_dims(img_array, 0) # Create a batch\n",
        "\n",
        "    predictions = custom_model.predict(img_array,verbose = 0)\n",
        "    score = tf.nn.softmax(predictions[0])\n",
        "    #print(predictions,\"\\n\", score)\n",
        "\n",
        "    \"\"\"print(\n",
        "        \"This image most likely belongs to {} with a {:.2f} percent confidence.\"\n",
        "        .format(class_names[np.argmax(score)], 100 * np.max(score))\n",
        "    )\"\"\"\n",
        "    return  [predictions, np.argmax(score), class_names[np.argmax(score)], \"{:.2f}\".format(100 * np.max(score))]\n",
        "\n"
      ],
      "metadata": {
        "id": "XsyJca7qxdo7"
      },
      "id": "XsyJca7qxdo7",
      "execution_count": null,
      "outputs": []
    },
    {
      "cell_type": "markdown",
      "source": [
        "**Data alma**"
      ],
      "metadata": {
        "id": "akhMfQXOgoKN"
      },
      "id": "akhMfQXOgoKN"
    },
    {
      "cell_type": "code",
      "source": [
        "%%time\n",
        "img_path =   glob(\"/content/drive/MyDrive/Test/*\") "
      ],
      "metadata": {
        "colab": {
          "base_uri": "https://localhost:8080/"
        },
        "id": "dDAEjf7Ngjp_",
        "outputId": "398824c7-358f-454d-e3c7-00a89660a536"
      },
      "id": "dDAEjf7Ngjp_",
      "execution_count": null,
      "outputs": [
        {
          "output_type": "stream",
          "name": "stdout",
          "text": [
            "CPU times: user 1.25 ms, sys: 71 µs, total: 1.32 ms\n",
            "Wall time: 2.02 ms\n"
          ]
        }
      ]
    },
    {
      "cell_type": "markdown",
      "source": [
        "#Alexnet"
      ],
      "metadata": {
        "id": "CRihjJWe_-Yy"
      },
      "id": "CRihjJWe_-Yy"
    },
    {
      "cell_type": "markdown",
      "source": [
        "\n",
        "\n",
        "**Önceden eğitilmiş model alma**"
      ],
      "metadata": {
        "id": "zp1vPq8ug6oq"
      },
      "id": "zp1vPq8ug6oq"
    },
    {
      "cell_type": "code",
      "source": [
        "model_name= '/content/drive/MyDrive/SON_models_Finger/model_AlexNet_gender_500_weights_upSampling.best.hdf5'\n",
        "loaded_model_gender = load_model(model_name)\n",
        "loaded_model_gender \n",
        "\n",
        "model_name= '/content/drive/MyDrive/SON_models_Finger/model_AlexNet_age_500_weights_upSampling.best.hdf5'\n",
        "loaded_model_age = load_model(model_name)\n",
        "loaded_model_age\n",
        "model_name= '/content/drive/MyDrive/SON_models_Finger/model_AlexNet_race_500_weights_upSampling.best.hdf5'\n",
        "loaded_model_race = load_model(model_name)\n",
        "loaded_model_race"
      ],
      "metadata": {
        "colab": {
          "base_uri": "https://localhost:8080/"
        },
        "id": "Kl87ErxZ0tBN",
        "outputId": "a5daf802-1542-4070-f729-200acde86081"
      },
      "id": "Kl87ErxZ0tBN",
      "execution_count": null,
      "outputs": [
        {
          "output_type": "execute_result",
          "data": {
            "text/plain": [
              "<keras.engine.sequential.Sequential at 0x7f00c02bc750>"
            ]
          },
          "metadata": {},
          "execution_count": 6
        }
      ]
    },
    {
      "cell_type": "code",
      "source": [
        "classes = [[\"female\", \"male\"],[\"0_30\", \"31_40\", \"41_50\", \"51_above\"], [\"white\", \"asian\", \"african-american\"]]"
      ],
      "metadata": {
        "id": "AZ4vM0ONitK7"
      },
      "id": "AZ4vM0ONitK7",
      "execution_count": null,
      "outputs": []
    },
    {
      "cell_type": "markdown",
      "source": [
        "**Gercek zamanda Test**"
      ],
      "metadata": {
        "id": "egP5TWXW7J5b"
      },
      "id": "egP5TWXW7J5b"
    },
    {
      "cell_type": "code",
      "source": [
        "%%time\n",
        "image_size = 227\n",
        "pred_amount = 5\n",
        "counter = 0 \n",
        "print(f\"{end[2]}Gender (Confidence) \\t {end[3]}Age (Confidence) \\t{end[4]}Race (Confidence){end[0]}\")\n",
        "for image in img_path:\n",
        "    pred_gender = getPredictions(loaded_model_gender,image, classes[0], image_size, pred_amount)      \n",
        "    pred_age = getPredictions(loaded_model_age, image, classes[1], image_size, pred_amount) \n",
        "    pred_race = getPredictions(loaded_model_race, image, classes[2], image_size, pred_amount) \n",
        "\n",
        "\n",
        "    print(f\"{end[2]}{pred_gender[2]} ({pred_gender[3]} %) \\t {end[3]}{pred_age[2]} ({pred_age[3]} %) \\t{end[4]}{pred_race[2]} ({pred_race[3]} %){end[0]}\")\n",
        "\n",
        "\n",
        "    counter +=1 \n",
        "    if counter==pred_amount:\n",
        "        break\n",
        "    \n",
        "\n",
        "print(\"\\n\\n\")"
      ],
      "metadata": {
        "colab": {
          "base_uri": "https://localhost:8080/"
        },
        "id": "JbULBRkQGQx3",
        "outputId": "7ff1e21f-3ff7-4e4f-af22-f8d766c9249c"
      },
      "id": "JbULBRkQGQx3",
      "execution_count": null,
      "outputs": [
        {
          "output_type": "stream",
          "name": "stdout",
          "text": [
            "\u001b[1;32;1mGender (Confidence) \t \u001b[1;33;1mAge (Confidence) \t\u001b[1;34;1mRace (Confidence)\u001b[0;30;1m\n",
            "\u001b[1;32;1mfemale (73.11 %) \t \u001b[1;33;1m51_above (47.54 %) \t\u001b[1;34;1mafrican-american (57.61 %)\u001b[0;30;1m\n",
            "\n",
            "\n",
            "\n",
            "CPU times: user 156 ms, sys: 10.3 ms, total: 167 ms\n",
            "Wall time: 489 ms\n"
          ]
        }
      ]
    },
    {
      "cell_type": "markdown",
      "source": [
        "# KNN"
      ],
      "metadata": {
        "id": "hnpQ2wKiAdDQ"
      },
      "id": "hnpQ2wKiAdDQ"
    },
    {
      "cell_type": "markdown",
      "source": [
        "**Önceden eğitilmiş model alma**"
      ],
      "metadata": {
        "id": "zPfdEoHDAqll"
      },
      "id": "zPfdEoHDAqll"
    },
    {
      "cell_type": "code",
      "source": [
        "%%time\n",
        "images = getRawDataSet(img_path) "
      ],
      "metadata": {
        "colab": {
          "base_uri": "https://localhost:8080/"
        },
        "id": "PGK8yHogHL0N",
        "outputId": "4a65f16e-1e2a-4976-bb8b-e88b590d88ae"
      },
      "id": "PGK8yHogHL0N",
      "execution_count": null,
      "outputs": [
        {
          "output_type": "stream",
          "name": "stdout",
          "text": [
            "\u001b[1;31;1mData Alınıyor....\n",
            "\u001b[1;32;1mHazırlandı!\u001b[0;30;1m\n",
            "Toplam Resimler: 1  \u001b[0;30;1m\n",
            "\n",
            "\n",
            "CPU times: user 6.45 ms, sys: 1.5 ms, total: 7.95 ms\n",
            "Wall time: 10.3 ms\n"
          ]
        }
      ]
    },
    {
      "cell_type": "code",
      "execution_count": null,
      "id": "915dc74b",
      "metadata": {
        "id": "915dc74b",
        "colab": {
          "base_uri": "https://localhost:8080/",
          "height": 375
        },
        "outputId": "370fdd3d-becd-4cb4-90fc-4c1f645a8022"
      },
      "outputs": [
        {
          "output_type": "stream",
          "name": "stdout",
          "text": [
            "\u001b[1;32;1mGender (Confidence) \t \u001b[1;33;1mAge (Confidence) \t\u001b[1;34;1mRace (Confidence)\u001b[0;30;1m\n",
            "\u001b[1;32;1mGender (Confidence) \t \u001b[1;33;1mAge (Confidence) \t\u001b[1;34;1mRace (Confidence)\u001b[0;30;1m\n"
          ]
        },
        {
          "output_type": "error",
          "ename": "TypeError",
          "evalue": "ignored",
          "traceback": [
            "\u001b[0;31m---------------------------------------------------------------------------\u001b[0m",
            "\u001b[0;31mTypeError\u001b[0m                                 Traceback (most recent call last)",
            "\u001b[0;32m<ipython-input-16-4fb68344d726>\u001b[0m in \u001b[0;36m<module>\u001b[0;34m\u001b[0m\n\u001b[1;32m      9\u001b[0m \u001b[0;34m\u001b[0m\u001b[0m\n\u001b[1;32m     10\u001b[0m \u001b[0mprint\u001b[0m\u001b[0;34m(\u001b[0m\u001b[0;34mf\"{end[2]}Gender (Confidence) \\t {end[3]}Age (Confidence) \\t{end[4]}Race (Confidence){end[0]}\"\u001b[0m\u001b[0;34m)\u001b[0m\u001b[0;34m\u001b[0m\u001b[0;34m\u001b[0m\u001b[0m\n\u001b[0;32m---> 11\u001b[0;31m \u001b[0mpredictions\u001b[0m \u001b[0;34m=\u001b[0m \u001b[0mtestTrainedModels\u001b[0m\u001b[0;34m(\u001b[0m\u001b[0mdata\u001b[0m\u001b[0;34m[\u001b[0m\u001b[0;36m0\u001b[0m\u001b[0;34m:\u001b[0m\u001b[0;36m2\u001b[0m\u001b[0;34m]\u001b[0m\u001b[0;34m,\u001b[0m \u001b[0mclasses\u001b[0m\u001b[0;34m,\u001b[0m \u001b[0mmodels\u001b[0m\u001b[0;34m,\u001b[0m \u001b[0mimg_path\u001b[0m\u001b[0;34m)\u001b[0m\u001b[0;34m\u001b[0m\u001b[0;34m\u001b[0m\u001b[0m\n\u001b[0m",
            "\u001b[0;32m<ipython-input-4-a8d471671d9d>\u001b[0m in \u001b[0;36mtestTrainedModels\u001b[0;34m(data, classes, models, models_path)\u001b[0m\n\u001b[1;32m     13\u001b[0m     \u001b[0mprint\u001b[0m\u001b[0;34m(\u001b[0m\u001b[0;34mf\"{end[2]}Gender (Confidence) \\t {end[3]}Age (Confidence) \\t{end[4]}Race (Confidence){end[0]}\"\u001b[0m\u001b[0;34m)\u001b[0m\u001b[0;34m\u001b[0m\u001b[0;34m\u001b[0m\u001b[0m\n\u001b[1;32m     14\u001b[0m     \u001b[0;32mif\u001b[0m \u001b[0mlen\u001b[0m\u001b[0;34m(\u001b[0m\u001b[0mdata\u001b[0m\u001b[0;34m.\u001b[0m\u001b[0mshape\u001b[0m\u001b[0;34m)\u001b[0m\u001b[0;34m>\u001b[0m\u001b[0;36m1\u001b[0m\u001b[0;34m:\u001b[0m\u001b[0;34m\u001b[0m\u001b[0;34m\u001b[0m\u001b[0m\n\u001b[0;32m---> 15\u001b[0;31m         \u001b[0mgender_model\u001b[0m \u001b[0;34m=\u001b[0m \u001b[0mjoblib\u001b[0m\u001b[0;34m.\u001b[0m\u001b[0mload\u001b[0m\u001b[0;34m(\u001b[0m\u001b[0mmodels_path\u001b[0m\u001b[0;34m+\u001b[0m\u001b[0mmodels\u001b[0m\u001b[0;34m[\u001b[0m\u001b[0;36m0\u001b[0m\u001b[0;34m]\u001b[0m\u001b[0;34m)\u001b[0m\u001b[0;34m\u001b[0m\u001b[0;34m\u001b[0m\u001b[0m\n\u001b[0m\u001b[1;32m     16\u001b[0m         \u001b[0mgender_predictions\u001b[0m \u001b[0;34m=\u001b[0m \u001b[0mgender_model\u001b[0m\u001b[0;34m.\u001b[0m\u001b[0mpredict\u001b[0m\u001b[0;34m(\u001b[0m\u001b[0mdata\u001b[0m\u001b[0;34m)\u001b[0m\u001b[0;34m\u001b[0m\u001b[0;34m\u001b[0m\u001b[0m\n\u001b[1;32m     17\u001b[0m \u001b[0;34m\u001b[0m\u001b[0m\n",
            "\u001b[0;31mTypeError\u001b[0m: can only concatenate list (not \"str\") to list"
          ]
        }
      ],
      "source": [
        "data = np.array(images,dtype=float)\n",
        "dataset_size = data.shape[0]\n",
        "data = data.reshape(dataset_size,-1)\n",
        "\n",
        "\n",
        "models = ['KNNdownSgenderModel.pkl','KNNdownSageModel.pkl','KNNdownSraceModel.pkl']\n",
        "          #['KNNupSageModel.pkl', 'KNNupSgenderModel.pkl', 'KNNupSraceModel.pkl']\n",
        "          #[KNNaugageModel.pkl', 'KNNauggenderModel.pkl', 'KNNaugraceModel.pkl']\n",
        "\n",
        "print(f\"{end[2]}Gender (Confidence) \\t {end[3]}Age (Confidence) \\t{end[4]}Race (Confidence){end[0]}\")\n",
        "predictions = testTrainedModels(data[0:2], classes, models, img_path)\n"
      ]
    },
    {
      "cell_type": "code",
      "execution_count": null,
      "id": "fc7789db",
      "metadata": {
        "id": "fc7789db",
        "outputId": "46fe2f32-d680-4377-8170-e1af9828ead8",
        "colab": {
          "base_uri": "https://localhost:8080/",
          "height": 90
        }
      },
      "outputs": [
        {
          "output_type": "stream",
          "name": "stdout",
          "text": [
            "\u001b[1;31;1mpred: 0  |\u001b[1;32;1m  Gender: female 100.0%  | \u001b[1;33;1m Age: 51_above  60.0%  |  \u001b[1;34;1m  Race: white  60.0%\n",
            "\u001b[1;31;1mpred: 0  |\u001b[1;32;1m  Gender: female 80.0%  | \u001b[1;33;1m Age: 31_40  60.0%  |  \u001b[1;34;1m  Race: asian  60.0%\n",
            "\u001b[1;31;1mpred: 0  |\u001b[1;32;1m  Gender: female 100.0%  | \u001b[1;33;1m Age: 0_30  40.0%  |  \u001b[1;34;1m  Race: white  60.0%\n"
          ]
        },
        {
          "output_type": "execute_result",
          "data": {
            "text/plain": [
              "'pred: 0 Gender: female   Age: 0_30    Race: white'"
            ],
            "application/vnd.google.colaboratory.intrinsic+json": {
              "type": "string"
            }
          },
          "metadata": {},
          "execution_count": 9
        }
      ],
      "source": [
        "data = np.array(male_images,dtype=float)\n",
        "dataset_size = data.shape[0]\n",
        "data = data.reshape(dataset_size,-1)\n",
        "\n",
        "\n",
        "models = ['KNNdownSgenderModel.pkl','KNNdownSageModel.pkl','KNNdownSraceModel.pkl']\n",
        "          #['KNNupSageModel.pkl', 'KNNupSgenderModel.pkl', 'KNNupSraceModel.pkl']\n",
        "          #[KNNaugageModel.pkl', 'KNNauggenderModel.pkl', 'KNNaugraceModel.pkl']\n",
        "\n",
        "testTrainedModels(data[9:12], classes, models, models_path)"
      ]
    },
    {
      "cell_type": "code",
      "execution_count": null,
      "id": "19d06789",
      "metadata": {
        "id": "19d06789",
        "outputId": "6137ca52-2091-4bdd-ce5c-f5df0f4ffd7b"
      },
      "outputs": [
        {
          "ename": "SyntaxError",
          "evalue": "invalid syntax (760050616.py, line 1)",
          "output_type": "error",
          "traceback": [
            "\u001b[1;36m  Input \u001b[1;32mIn [84]\u001b[1;36m\u001b[0m\n\u001b[1;33m    break here\u001b[0m\n\u001b[1;37m          ^\u001b[0m\n\u001b[1;31mSyntaxError\u001b[0m\u001b[1;31m:\u001b[0m invalid syntax\n"
          ]
        }
      ],
      "source": [
        "break here"
      ]
    }
  ],
  "metadata": {
    "kernelspec": {
      "display_name": "Python 3 (ipykernel)",
      "language": "python",
      "name": "python3"
    },
    "language_info": {
      "codemirror_mode": {
        "name": "ipython",
        "version": 3
      },
      "file_extension": ".py",
      "mimetype": "text/x-python",
      "name": "python",
      "nbconvert_exporter": "python",
      "pygments_lexer": "ipython3",
      "version": "3.10.2"
    },
    "colab": {
      "provenance": [],
      "collapsed_sections": [],
      "include_colab_link": true
    },
    "accelerator": "GPU"
  },
  "nbformat": 4,
  "nbformat_minor": 5
}